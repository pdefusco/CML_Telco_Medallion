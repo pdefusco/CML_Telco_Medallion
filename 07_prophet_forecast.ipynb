{
 "cells": [
  {
   "cell_type": "code",
   "execution_count": 1,
   "id": "27bc2fbc-ae46-4ada-abce-1d470c656229",
   "metadata": {},
   "outputs": [],
   "source": [
    "#****************************************************************************\n",
    "# (C) Cloudera, Inc. 2020-2023\n",
    "#  All rights reserved.\n",
    "#\n",
    "#  Applicable Open Source License: GNU Affero General Public License v3.0\n",
    "#\n",
    "#  NOTE: Cloudera open source products are modular software products\n",
    "#  made up of hundreds of individual components, each of which was\n",
    "#  individually copyrighted.  Each Cloudera open source product is a\n",
    "#  collective work under U.S. Copyright Law. Your license to use the\n",
    "#  collective work is as provided in your written agreement with\n",
    "#  Cloudera.  Used apart from the collective work, this file is\n",
    "#  licensed for your use pursuant to the open source license\n",
    "#  identified above.\n",
    "#\n",
    "#  This code is provided to you pursuant a written agreement with\n",
    "#  (i) Cloudera, Inc. or (ii) a third-party authorized to distribute\n",
    "#  this code. If you do not have a written agreement with Cloudera nor\n",
    "#  with an authorized and properly licensed third party, you do not\n",
    "#  have any rights to access nor to use this code.\n",
    "#\n",
    "#  Absent a written agreement with Cloudera, Inc. (“Cloudera”) to the\n",
    "#  contrary, A) CLOUDERA PROVIDES THIS CODE TO YOU WITHOUT WARRANTIES OF ANY\n",
    "#  KIND; (B) CLOUDERA DISCLAIMS ANY AND ALL EXPRESS AND IMPLIED\n",
    "#  WARRANTIES WITH RESPECT TO THIS CODE, INCLUDING BUT NOT LIMITED TO\n",
    "#  IMPLIED WARRANTIES OF TITLE, NON-INFRINGEMENT, MERCHANTABILITY AND\n",
    "#  FITNESS FOR A PARTICULAR PURPOSE; (C) CLOUDERA IS NOT LIABLE TO YOU,\n",
    "#  AND WILL NOT DEFEND, INDEMNIFY, NOR HOLD YOU HARMLESS FOR ANY CLAIMS\n",
    "#  ARISING FROM OR RELATED TO THE CODE; AND (D)WITH RESPECT TO YOUR EXERCISE\n",
    "#  OF ANY RIGHTS GRANTED TO YOU FOR THE CODE, CLOUDERA IS NOT LIABLE FOR ANY\n",
    "#  DIRECT, INDIRECT, INCIDENTAL, SPECIAL, EXEMPLARY, PUNITIVE OR\n",
    "#  CONSEQUENTIAL DAMAGES INCLUDING, BUT NOT LIMITED TO, DAMAGES\n",
    "#  RELATED TO LOST REVENUE, LOST PROFITS, LOSS OF INCOME, LOSS OF\n",
    "#  BUSINESS ADVANTAGE OR UNAVAILABILITY, OR LOSS OR CORRUPTION OF\n",
    "#  DATA.\n",
    "#\n",
    "# #  Author(s): Paul de Fusco\n",
    "#***************************************************************************/"
   ]
  },
  {
   "cell_type": "code",
   "execution_count": 2,
   "id": "12eccbc7-dc06-413a-a0e4-4164a13bee96",
   "metadata": {},
   "outputs": [
    {
     "name": "stderr",
     "output_type": "stream",
     "text": [
      "/home/cdsw/.local/lib/python3.10/site-packages/tqdm/auto.py:21: TqdmWarning: IProgress not found. Please update jupyter and ipywidgets. See https://ipywidgets.readthedocs.io/en/stable/user_install.html\n",
      "  from .autonotebook import tqdm as notebook_tqdm\n",
      "Importing plotly failed. Interactive plots will not work.\n"
     ]
    }
   ],
   "source": [
    "import os\n",
    "import numpy as np\n",
    "import pandas as pd\n",
    "from datetime import date\n",
    "from prophet import Prophet, serialize\n",
    "from prophet.diagnostics import cross_validation, performance_metrics\n",
    "from pyspark.sql.functions import to_date\n",
    "import mlflow"
   ]
  },
  {
   "cell_type": "code",
   "execution_count": 3,
   "id": "15ad5561-de48-4acf-906d-c1f19a94bb50",
   "metadata": {},
   "outputs": [
    {
     "name": "stderr",
     "output_type": "stream",
     "text": [
      "WARNING:root:'PYARROW_IGNORE_TIMEZONE' environment variable was not set. It is required to set this environment variable to '1' in both driver and executor sides if you use pyarrow>=2.0.0. pandas-on-Spark will set it for you but it does not work if there is a Spark context already launched.\n"
     ]
    }
   ],
   "source": [
    "import cml.data_v1 as cmldata\n",
    "import pyspark.pandas as ps"
   ]
  },
  {
   "cell_type": "code",
   "execution_count": 4,
   "id": "8ef989cc-929f-4cae-a621-d3fc6bcef243",
   "metadata": {},
   "outputs": [],
   "source": [
    "USERNAME = os.environ[\"PROJECT_OWNER\"]\n",
    "CONNECTION_NAME = \"telefonicabr-az-dl\"\n",
    "DATE = date.today()\n",
    "EXPERIMENT_NAME = \"prophet-forecast-{0}\".format(USERNAME)"
   ]
  },
  {
   "cell_type": "code",
   "execution_count": 49,
   "id": "4b8b2b8a-aad5-4991-98e6-ab8845b65bf0",
   "metadata": {},
   "outputs": [
    {
     "name": "stdout",
     "output_type": "stream",
     "text": [
      "Spark Application Id:spark-application-1729898469089\n"
     ]
    }
   ],
   "source": [
    "mlflow.set_experiment(EXPERIMENT_NAME)\n",
    "\n",
    "conn = cmldata.get_connection(CONNECTION_NAME)\n",
    "spark = conn.get_spark_session()"
   ]
  },
  {
   "cell_type": "code",
   "execution_count": 87,
   "id": "a54b6039-7065-478a-be91-e2af37ba5a45",
   "metadata": {},
   "outputs": [
    {
     "name": "stdout",
     "output_type": "stream",
     "text": [
      "root\n",
      " |-- ds: date (nullable = true)\n",
      " |-- y: integer (nullable = true)\n",
      "\n"
     ]
    }
   ],
   "source": [
    "# ICEBERG SILVER TABLE\n",
    "df = spark.sql(\"SELECT dt_prmr_atcv_lnha, GROSSVALUE FROM SPARK_CATALOG.TELCO_MEDALLION.PRODUCTS_SILVER\")\n",
    "#df.count()\n",
    "df = df.withColumnRenamed('dt_prmr_atcv_lnha', 'ds')\n",
    "df = df.withColumnRenamed('GROSSVALUE', 'y')\n",
    "# Convert the timestamp column to a date column\n",
    "df = df.withColumn(\"ds\", to_date(\"ds\"))\n",
    "df.printSchema()"
   ]
  },
  {
   "cell_type": "code",
   "execution_count": 88,
   "id": "7dd8670f-7085-4125-9339-1023f8aead56",
   "metadata": {},
   "outputs": [],
   "source": [
    "from pyspark.sql.functions import col, to_date, sum\n",
    "\n",
    "# Filter the DataFrame\n",
    "df = df.filter(col(\"ds\") > \"2022-12-31\")\n",
    "\n",
    "# Get total sum of Value by Day across all companies:\n",
    "df = df.groupby(\"ds\").agg(sum(\"y\").alias(\"y\"))"
   ]
  },
  {
   "cell_type": "code",
   "execution_count": 89,
   "id": "61efa528-b157-4515-b202-d53eb7dbd6dd",
   "metadata": {},
   "outputs": [
    {
     "name": "stderr",
     "output_type": "stream",
     "text": [
      "                                                                                \r"
     ]
    }
   ],
   "source": [
    "spark.conf.set(\"spark.sql.execution.arrow.pyspark.enabled\", \"true\")\n",
    "df = df.toPandas()"
   ]
  },
  {
   "cell_type": "code",
   "execution_count": 90,
   "id": "d14be07c-b099-45c5-b606-d936d953a4da",
   "metadata": {},
   "outputs": [],
   "source": [
    "#df.head()"
   ]
  },
  {
   "cell_type": "code",
   "execution_count": 91,
   "id": "511ecfb3-66b8-4f87-bd80-3c79dad33250",
   "metadata": {},
   "outputs": [],
   "source": [
    "df.sort_values(by='ds', ascending=False, inplace=True)"
   ]
  },
  {
   "cell_type": "code",
   "execution_count": 92,
   "id": "c0173f08-ae69-44bc-bfc7-47a7c0dbce95",
   "metadata": {},
   "outputs": [
    {
     "data": {
      "text/html": [
       "<div>\n",
       "<style scoped>\n",
       "    .dataframe tbody tr th:only-of-type {\n",
       "        vertical-align: middle;\n",
       "    }\n",
       "\n",
       "    .dataframe tbody tr th {\n",
       "        vertical-align: top;\n",
       "    }\n",
       "\n",
       "    .dataframe thead th {\n",
       "        text-align: right;\n",
       "    }\n",
       "</style>\n",
       "<table border=\"1\" class=\"dataframe\">\n",
       "  <thead>\n",
       "    <tr style=\"text-align: right;\">\n",
       "      <th></th>\n",
       "      <th>ds</th>\n",
       "      <th>y</th>\n",
       "    </tr>\n",
       "  </thead>\n",
       "  <tbody>\n",
       "    <tr>\n",
       "      <th>42</th>\n",
       "      <td>2023-12-31</td>\n",
       "      <td>582944</td>\n",
       "    </tr>\n",
       "    <tr>\n",
       "      <th>67</th>\n",
       "      <td>2023-12-29</td>\n",
       "      <td>281200</td>\n",
       "    </tr>\n",
       "    <tr>\n",
       "      <th>125</th>\n",
       "      <td>2023-12-28</td>\n",
       "      <td>22280</td>\n",
       "    </tr>\n",
       "    <tr>\n",
       "      <th>194</th>\n",
       "      <td>2023-12-26</td>\n",
       "      <td>277560</td>\n",
       "    </tr>\n",
       "    <tr>\n",
       "      <th>145</th>\n",
       "      <td>2023-12-25</td>\n",
       "      <td>302560</td>\n",
       "    </tr>\n",
       "  </tbody>\n",
       "</table>\n",
       "</div>"
      ],
      "text/plain": [
       "             ds       y\n",
       "42   2023-12-31  582944\n",
       "67   2023-12-29  281200\n",
       "125  2023-12-28   22280\n",
       "194  2023-12-26  277560\n",
       "145  2023-12-25  302560"
      ]
     },
     "execution_count": 92,
     "metadata": {},
     "output_type": "execute_result"
    }
   ],
   "source": [
    "df.head()"
   ]
  },
  {
   "cell_type": "code",
   "execution_count": 93,
   "id": "43d9514e-72d0-4d9b-989f-7a645163857b",
   "metadata": {},
   "outputs": [],
   "source": [
    "def extract_params(pr_model):\n",
    "    params = {attr: getattr(pr_model, attr) for attr in serialize.SIMPLE_ATTRIBUTES}\n",
    "    return {k: v for k, v in params.items() if isinstance(v, (int, float, str, bool))}"
   ]
  },
  {
   "cell_type": "code",
   "execution_count": 97,
   "id": "2bdcd194-1dc6-4cf5-92da-fc8635a5e715",
   "metadata": {},
   "outputs": [
    {
     "name": "stderr",
     "output_type": "stream",
     "text": [
      "INFO:prophet:Disabling yearly seasonality. Run prophet with yearly_seasonality=True to override this.\n",
      "INFO:prophet:Disabling daily seasonality. Run prophet with daily_seasonality=True to override this.\n",
      "DEBUG:cmdstanpy:input tempfile: /tmp/tmpfijowygc/f4c2m2bo.json\n",
      "DEBUG:cmdstanpy:input tempfile: /tmp/tmpfijowygc/phtxjk7w.json\n",
      "DEBUG:cmdstanpy:idx 0\n",
      "DEBUG:cmdstanpy:running CmdStan, num_threads: None\n",
      "DEBUG:cmdstanpy:CmdStan args: ['/home/cdsw/.local/lib/python3.10/site-packages/prophet/stan_model/prophet_model.bin', 'random', 'seed=64646', 'data', 'file=/tmp/tmpfijowygc/f4c2m2bo.json', 'init=/tmp/tmpfijowygc/phtxjk7w.json', 'output', 'file=/tmp/tmpfijowygc/prophet_modelkdat6oms/prophet_model-20241025235206.csv', 'method=optimize', 'algorithm=lbfgs', 'iter=10000']\n",
      "23:52:06 - cmdstanpy - INFO - Chain [1] start processing\n",
      "INFO:cmdstanpy:Chain [1] start processing\n",
      "23:52:06 - cmdstanpy - INFO - Chain [1] done processing\n",
      "INFO:cmdstanpy:Chain [1] done processing\n",
      "INFO:prophet:Making 4 forecasts with cutoffs between 2023-03-06 00:00:00 and 2023-12-01 00:00:00\n",
      "INFO:prophet:Applying in parallel with <concurrent.futures.thread.ThreadPoolExecutor object at 0x7f1451c44070>\n",
      "DEBUG:cmdstanpy:input tempfile: /tmp/tmpfijowygc/lli8c2cb.json\n",
      "DEBUG:cmdstanpy:input tempfile: /tmp/tmpfijowygc/_bewbwc1.json\n",
      "DEBUG:cmdstanpy:input tempfile: /tmp/tmpfijowygc/hxmoq_dp.json\n",
      "DEBUG:cmdstanpy:input tempfile: /tmp/tmpfijowygc/1k4sgd9v.json\n",
      "DEBUG:cmdstanpy:input tempfile: /tmp/tmpfijowygc/gpqrhe6k.json\n",
      "DEBUG:cmdstanpy:input tempfile: /tmp/tmpfijowygc/9oeamxhh.json\n",
      "DEBUG:cmdstanpy:input tempfile: /tmp/tmpfijowygc/zgh_pf6q.json\n",
      "DEBUG:cmdstanpy:idx 0\n",
      "DEBUG:cmdstanpy:input tempfile: /tmp/tmpfijowygc/6gvsq3j4.json\n",
      "DEBUG:cmdstanpy:idx 0\n",
      "DEBUG:cmdstanpy:running CmdStan, num_threads: None\n",
      "DEBUG:cmdstanpy:idx 0\n",
      "DEBUG:cmdstanpy:running CmdStan, num_threads: None\n",
      "DEBUG:cmdstanpy:idx 0\n",
      "DEBUG:cmdstanpy:CmdStan args: ['/home/cdsw/.local/lib/python3.10/site-packages/prophet/stan_model/prophet_model.bin', 'random', 'seed=37244', 'data', 'file=/tmp/tmpfijowygc/lli8c2cb.json', 'init=/tmp/tmpfijowygc/1k4sgd9v.json', 'output', 'file=/tmp/tmpfijowygc/prophet_modeldx97wlja/prophet_model-20241025235206.csv', 'method=optimize', 'algorithm=lbfgs', 'iter=10000']\n",
      "23:52:06 - cmdstanpy - INFO - Chain [1] start processing\n",
      "DEBUG:cmdstanpy:running CmdStan, num_threads: None\n",
      "DEBUG:cmdstanpy:CmdStan args: ['/home/cdsw/.local/lib/python3.10/site-packages/prophet/stan_model/prophet_model.bin', 'random', 'seed=62144', 'data', 'file=/tmp/tmpfijowygc/_bewbwc1.json', 'init=/tmp/tmpfijowygc/9oeamxhh.json', 'output', 'file=/tmp/tmpfijowygc/prophet_model2k3x6tl6/prophet_model-20241025235206.csv', 'method=optimize', 'algorithm=lbfgs', 'iter=10000']\n",
      "23:52:06 - cmdstanpy - INFO - Chain [1] start processing\n",
      "DEBUG:cmdstanpy:running CmdStan, num_threads: None\n",
      "INFO:cmdstanpy:Chain [1] start processing\n",
      "DEBUG:cmdstanpy:CmdStan args: ['/home/cdsw/.local/lib/python3.10/site-packages/prophet/stan_model/prophet_model.bin', 'random', 'seed=96113', 'data', 'file=/tmp/tmpfijowygc/hxmoq_dp.json', 'init=/tmp/tmpfijowygc/zgh_pf6q.json', 'output', 'file=/tmp/tmpfijowygc/prophet_model8pyc0n2g/prophet_model-20241025235206.csv', 'method=optimize', 'algorithm=newton', 'iter=10000']\n",
      "23:52:06 - cmdstanpy - INFO - Chain [1] start processing\n",
      "INFO:cmdstanpy:Chain [1] start processing\n",
      "DEBUG:cmdstanpy:CmdStan args: ['/home/cdsw/.local/lib/python3.10/site-packages/prophet/stan_model/prophet_model.bin', 'random', 'seed=99676', 'data', 'file=/tmp/tmpfijowygc/gpqrhe6k.json', 'init=/tmp/tmpfijowygc/6gvsq3j4.json', 'output', 'file=/tmp/tmpfijowygc/prophet_model7bjk8qrm/prophet_model-20241025235206.csv', 'method=optimize', 'algorithm=newton', 'iter=10000']\n",
      "23:52:06 - cmdstanpy - INFO - Chain [1] start processing\n",
      "INFO:cmdstanpy:Chain [1] start processing\n",
      "INFO:cmdstanpy:Chain [1] start processing\n",
      "23:52:06 - cmdstanpy - INFO - Chain [1] done processing\n",
      "INFO:cmdstanpy:Chain [1] done processing\n",
      "23:52:06 - cmdstanpy - INFO - Chain [1] done processing\n",
      "INFO:cmdstanpy:Chain [1] done processing\n",
      "23:52:06 - cmdstanpy - INFO - Chain [1] done processing\n",
      "INFO:cmdstanpy:Chain [1] done processing\n",
      "23:52:06 - cmdstanpy - INFO - Chain [1] done processing\n",
      "INFO:cmdstanpy:Chain [1] done processing\n",
      "/usr/local/lib/python3.10/site-packages/_distutils_hack/__init__.py:33: UserWarning: Setuptools is replacing distutils.\n",
      "  warnings.warn(\"Setuptools is replacing distutils.\")\n"
     ]
    }
   ],
   "source": [
    "mlflow.set_experiment(\"prophet-forecast\")\n",
    "with mlflow.start_run():\n",
    "    model = Prophet().fit(df)\n",
    "    params = extract_params(model)\n",
    "\n",
    "    metrics_raw = cross_validation(\n",
    "        model=model,\n",
    "        horizon=\"30 days\",\n",
    "        period=\"90 days\",\n",
    "        initial=\"60 days\",\n",
    "        parallel=\"threads\",\n",
    "        disable_tqdm=True,\n",
    "    )\n",
    "\n",
    "    cv_metrics = performance_metrics(metrics_raw)\n",
    "    metrics = cv_metrics.drop(columns=[\"horizon\"]).mean().to_dict()\n",
    "\n",
    "    # The training data can be retrieved from the fit model for convenience\n",
    "    train = model.history\n",
    "\n",
    "    model_info = mlflow.prophet.log_model(\n",
    "        model, artifact_path=\"prophet_model\", input_example=train[[\"ds\"]].head(10)\n",
    "    )\n",
    "    mlflow.log_params(params)\n",
    "    mlflow.log_metrics(metrics)"
   ]
  },
  {
   "cell_type": "code",
   "execution_count": null,
   "id": "2b906050-b13b-42ca-a671-db428f5dd4e1",
   "metadata": {},
   "outputs": [],
   "source": []
  }
 ],
 "metadata": {
  "kernelspec": {
   "display_name": "Python 3 (ipykernel)",
   "language": "python",
   "name": "python3"
  },
  "language_info": {
   "codemirror_mode": {
    "name": "ipython",
    "version": 3
   },
   "file_extension": ".py",
   "mimetype": "text/x-python",
   "name": "python",
   "nbconvert_exporter": "python",
   "pygments_lexer": "ipython3",
   "version": "3.10.13"
  }
 },
 "nbformat": 4,
 "nbformat_minor": 5
}
