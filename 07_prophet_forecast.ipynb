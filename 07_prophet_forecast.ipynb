{
 "cells": [
  {
   "cell_type": "code",
   "execution_count": 5,
   "id": "fa970e7e-1252-4e09-ad99-d036d3552b12",
   "metadata": {},
   "outputs": [],
   "source": [
    "#****************************************************************************\n",
    "# (C) Cloudera, Inc. 2020-2023\n",
    "#  All rights reserved.\n",
    "#\n",
    "#  Applicable Open Source License: GNU Affero General Public License v3.0\n",
    "#\n",
    "#  NOTE: Cloudera open source products are modular software products\n",
    "#  made up of hundreds of individual components, each of which was\n",
    "#  individually copyrighted.  Each Cloudera open source product is a\n",
    "#  collective work under U.S. Copyright Law. Your license to use the\n",
    "#  collective work is as provided in your written agreement with\n",
    "#  Cloudera.  Used apart from the collective work, this file is\n",
    "#  licensed for your use pursuant to the open source license\n",
    "#  identified above.\n",
    "#\n",
    "#  This code is provided to you pursuant a written agreement with\n",
    "#  (i) Cloudera, Inc. or (ii) a third-party authorized to distribute\n",
    "#  this code. If you do not have a written agreement with Cloudera nor\n",
    "#  with an authorized and properly licensed third party, you do not\n",
    "#  have any rights to access nor to use this code.\n",
    "#\n",
    "#  Absent a written agreement with Cloudera, Inc. (“Cloudera”) to the\n",
    "#  contrary, A) CLOUDERA PROVIDES THIS CODE TO YOU WITHOUT WARRANTIES OF ANY\n",
    "#  KIND; (B) CLOUDERA DISCLAIMS ANY AND ALL EXPRESS AND IMPLIED\n",
    "#  WARRANTIES WITH RESPECT TO THIS CODE, INCLUDING BUT NOT LIMITED TO\n",
    "#  IMPLIED WARRANTIES OF TITLE, NON-INFRINGEMENT, MERCHANTABILITY AND\n",
    "#  FITNESS FOR A PARTICULAR PURPOSE; (C) CLOUDERA IS NOT LIABLE TO YOU,\n",
    "#  AND WILL NOT DEFEND, INDEMNIFY, NOR HOLD YOU HARMLESS FOR ANY CLAIMS\n",
    "#  ARISING FROM OR RELATED TO THE CODE; AND (D)WITH RESPECT TO YOUR EXERCISE\n",
    "#  OF ANY RIGHTS GRANTED TO YOU FOR THE CODE, CLOUDERA IS NOT LIABLE FOR ANY\n",
    "#  DIRECT, INDIRECT, INCIDENTAL, SPECIAL, EXEMPLARY, PUNITIVE OR\n",
    "#  CONSEQUENTIAL DAMAGES INCLUDING, BUT NOT LIMITED TO, DAMAGES\n",
    "#  RELATED TO LOST REVENUE, LOST PROFITS, LOSS OF INCOME, LOSS OF\n",
    "#  BUSINESS ADVANTAGE OR UNAVAILABILITY, OR LOSS OR CORRUPTION OF\n",
    "#  DATA.\n",
    "#\n",
    "# #  Author(s): Paul de Fusco\n",
    "#***************************************************************************/"
   ]
  },
  {
   "cell_type": "code",
   "execution_count": 6,
   "id": "3c436b45-44b8-4170-95f7-7bb3b4d4ed1e",
   "metadata": {},
   "outputs": [
    {
     "name": "stderr",
     "output_type": "stream",
     "text": [
      "/home/cdsw/.local/lib/python3.10/site-packages/tqdm/auto.py:21: TqdmWarning: IProgress not found. Please update jupyter and ipywidgets. See https://ipywidgets.readthedocs.io/en/stable/user_install.html\n",
      "  from .autonotebook import tqdm as notebook_tqdm\n",
      "Importing plotly failed. Interactive plots will not work.\n"
     ]
    }
   ],
   "source": [
    "import os\n",
    "import numpy as np\n",
    "import pandas as pd\n",
    "from prophet import Prophet, serialize\n",
    "from prophet.diagnostics import cross_validation, performance_metrics\n",
    "import mlflow"
   ]
  },
  {
   "cell_type": "code",
   "execution_count": 7,
   "id": "a38a15cf-08e8-47ba-89d2-a405920d6509",
   "metadata": {},
   "outputs": [
    {
     "name": "stderr",
     "output_type": "stream",
     "text": [
      "WARNING:root:'PYARROW_IGNORE_TIMEZONE' environment variable was not set. It is required to set this environment variable to '1' in both driver and executor sides if you use pyarrow>=2.0.0. pandas-on-Spark will set it for you but it does not work if there is a Spark context already launched.\n"
     ]
    }
   ],
   "source": [
    "import cml.data_v1 as cmldata\n",
    "import pyspark.pandas as ps\n",
    "from pyspark.sql.functions import *"
   ]
  },
  {
   "cell_type": "code",
   "execution_count": 9,
   "id": "f3e7396b-1e4b-457a-9e16-47ddd4070b69",
   "metadata": {},
   "outputs": [],
   "source": [
    "USERNAME = os.environ[\"PROJECT_OWNER\"]\n",
    "CONNECTION_NAME = \"telefonicabr-az-dl\""
   ]
  },
  {
   "cell_type": "code",
   "execution_count": 20,
   "id": "beb64fcf-901e-457f-a17b-5424252c1818",
   "metadata": {},
   "outputs": [
    {
     "name": "stdout",
     "output_type": "stream",
     "text": [
      "Spark Application Id:spark-application-1729905181281\n"
     ]
    }
   ],
   "source": [
    "from pyspark import SparkContext\n",
    "SparkContext.setSystemProperty('spark.driver.cores', '2')\n",
    "SparkContext.setSystemProperty('spark.driver.memory', '4g')\n",
    "SparkContext.setSystemProperty('spark.executor.cores', '2')\n",
    "SparkContext.setSystemProperty('spark.executor.memory', '4g')\n",
    "\n",
    "conn = cmldata.get_connection(CONNECTION_NAME)\n",
    "spark = conn.get_spark_session()"
   ]
  },
  {
   "cell_type": "code",
   "execution_count": 21,
   "id": "53a19f82-7775-437f-83ab-5155ae65e0c1",
   "metadata": {},
   "outputs": [
    {
     "name": "stdout",
     "output_type": "stream",
     "text": [
      "root\n",
      " |-- ds: date (nullable = true)\n",
      " |-- y: integer (nullable = true)\n",
      "\n"
     ]
    }
   ],
   "source": [
    "df = spark.sql(\"SELECT DT_PRMR_ATCV_LNHA, COMPANY FROM SPARK_CATALOG.TELCO_MEDALLION.PRODUCTS_SILVER\")\n",
    "df = df.withColumnRenamed(\"COMPANY\", \"y\")\n",
    "df = df.withColumnRenamed(\"DT_PRMR_ATCV_LNHA\", \"ds\")\n",
    "df = df.withColumn(\"ds\", to_date(\"ds\")) \n",
    "#df.count()\n",
    "df.printSchema()"
   ]
  },
  {
   "cell_type": "code",
   "execution_count": 22,
   "id": "8f928f1b-da1e-4b71-8c7d-f044d735c5bd",
   "metadata": {},
   "outputs": [
    {
     "name": "stderr",
     "output_type": "stream",
     "text": [
      "                                                                                \r"
     ]
    }
   ],
   "source": [
    "df = df.filter(col(\"ds\") > \"2022-12-31\")\n",
    "df = df.toPandas()"
   ]
  },
  {
   "cell_type": "code",
   "execution_count": 23,
   "id": "283b101b-d4b2-4ee3-933a-9937a945c2b6",
   "metadata": {},
   "outputs": [],
   "source": [
    "def extract_params(pr_model):\n",
    "    params = {attr: getattr(pr_model, attr) for attr in serialize.SIMPLE_ATTRIBUTES}\n",
    "    return {k: v for k, v in params.items() if isinstance(v, (int, float, str, bool))}"
   ]
  },
  {
   "cell_type": "code",
   "execution_count": 24,
   "id": "55c72e05-56ef-45c6-aa28-2f61ec8978cd",
   "metadata": {},
   "outputs": [
    {
     "name": "stderr",
     "output_type": "stream",
     "text": [
      "2024/10/26 01:15:17 INFO mlflow.tracking.fluent: Experiment with name 'prophet-forecast' does not exist. Creating a new experiment.\n",
      "INFO:prophet:Disabling yearly seasonality. Run prophet with yearly_seasonality=True to override this.\n",
      "INFO:prophet:Disabling daily seasonality. Run prophet with daily_seasonality=True to override this.\n",
      "DEBUG:cmdstanpy:input tempfile: /tmp/tmplppovb8y/02u3gh_h.json\n",
      "DEBUG:cmdstanpy:input tempfile: /tmp/tmplppovb8y/174qlv6e.json\n",
      "DEBUG:cmdstanpy:idx 0\n",
      "DEBUG:cmdstanpy:running CmdStan, num_threads: None\n",
      "DEBUG:cmdstanpy:CmdStan args: ['/home/cdsw/.local/lib/python3.10/site-packages/prophet/stan_model/prophet_model.bin', 'random', 'seed=1991', 'data', 'file=/tmp/tmplppovb8y/02u3gh_h.json', 'init=/tmp/tmplppovb8y/174qlv6e.json', 'output', 'file=/tmp/tmplppovb8y/prophet_modeljmbvg1ou/prophet_model-20241026011518.csv', 'method=optimize', 'algorithm=lbfgs', 'iter=10000']\n",
      "01:15:18 - cmdstanpy - INFO - Chain [1] start processing\n",
      "INFO:cmdstanpy:Chain [1] start processing\n",
      "01:15:18 - cmdstanpy - INFO - Chain [1] done processing\n",
      "INFO:cmdstanpy:Chain [1] done processing\n",
      "INFO:prophet:Making 10 forecasts with cutoffs between 2023-03-06 00:00:00 and 2023-12-01 00:00:00\n",
      "INFO:prophet:Applying in parallel with <concurrent.futures.thread.ThreadPoolExecutor object at 0x7fdbda3c4be0>\n",
      "DEBUG:cmdstanpy:input tempfile: /tmp/tmplppovb8y/bifkhdtz.json\n",
      "DEBUG:cmdstanpy:input tempfile: /tmp/tmplppovb8y/wj7ghmge.json\n",
      "DEBUG:cmdstanpy:input tempfile: /tmp/tmplppovb8y/ktb2hwdk.json\n",
      "DEBUG:cmdstanpy:input tempfile: /tmp/tmplppovb8y/jdic_u3v.json\n",
      "DEBUG:cmdstanpy:input tempfile: /tmp/tmplppovb8y/8_rtisdf.json\n",
      "DEBUG:cmdstanpy:input tempfile: /tmp/tmplppovb8y/_2jrzgjv.json\n",
      "DEBUG:cmdstanpy:input tempfile: /tmp/tmplppovb8y/wxuty40l.json\n",
      "DEBUG:cmdstanpy:input tempfile: /tmp/tmplppovb8y/7xetwt6c.json\n",
      "DEBUG:cmdstanpy:input tempfile: /tmp/tmplppovb8y/nqjg45_y.json\n",
      "DEBUG:cmdstanpy:input tempfile: /tmp/tmplppovb8y/woojdi2z.json\n",
      "DEBUG:cmdstanpy:idx 0\n",
      "DEBUG:cmdstanpy:input tempfile: /tmp/tmplppovb8y/wczb8agl.json\n",
      "DEBUG:cmdstanpy:input tempfile: /tmp/tmplppovb8y/grualsi8.json\n",
      "DEBUG:cmdstanpy:input tempfile: /tmp/tmplppovb8y/c85gl8gu.json\n",
      "DEBUG:cmdstanpy:input tempfile: /tmp/tmplppovb8y/qr6mz_6i.json\n",
      "DEBUG:cmdstanpy:idx 0\n",
      "DEBUG:cmdstanpy:input tempfile: /tmp/tmplppovb8y/gbd78_h4.json\n",
      "DEBUG:cmdstanpy:idx 0\n",
      "DEBUG:cmdstanpy:running CmdStan, num_threads: None\n",
      "DEBUG:cmdstanpy:input tempfile: /tmp/tmplppovb8y/3cbgcqrd.json\n",
      "DEBUG:cmdstanpy:input tempfile: /tmp/tmplppovb8y/f2o2mnvj.json\n",
      "DEBUG:cmdstanpy:input tempfile: /tmp/tmplppovb8y/tloxq9s0.json\n",
      "DEBUG:cmdstanpy:input tempfile: /tmp/tmplppovb8y/pggdodzw.json\n",
      "DEBUG:cmdstanpy:idx 0\n",
      "DEBUG:cmdstanpy:idx 0\n",
      "DEBUG:cmdstanpy:running CmdStan, num_threads: None\n",
      "DEBUG:cmdstanpy:running CmdStan, num_threads: None\n",
      "DEBUG:cmdstanpy:CmdStan args: ['/home/cdsw/.local/lib/python3.10/site-packages/prophet/stan_model/prophet_model.bin', 'random', 'seed=65492', 'data', 'file=/tmp/tmplppovb8y/ktb2hwdk.json', 'init=/tmp/tmplppovb8y/nqjg45_y.json', 'output', 'file=/tmp/tmplppovb8y/prophet_modeld9g3zux1/prophet_model-20241026011519.csv', 'method=optimize', 'algorithm=lbfgs', 'iter=10000']\n",
      "01:15:19 - cmdstanpy - INFO - Chain [1] start processing\n",
      "DEBUG:cmdstanpy:idx 0\n",
      "DEBUG:cmdstanpy:input tempfile: /tmp/tmplppovb8y/su9ghfsn.json\n",
      "DEBUG:cmdstanpy:idx 0\n",
      "DEBUG:cmdstanpy:idx 0\n",
      "DEBUG:cmdstanpy:idx 0\n",
      "DEBUG:cmdstanpy:running CmdStan, num_threads: None\n",
      "DEBUG:cmdstanpy:running CmdStan, num_threads: None\n",
      "DEBUG:cmdstanpy:CmdStan args: ['/home/cdsw/.local/lib/python3.10/site-packages/prophet/stan_model/prophet_model.bin', 'random', 'seed=22711', 'data', 'file=/tmp/tmplppovb8y/wj7ghmge.json', 'init=/tmp/tmplppovb8y/7xetwt6c.json', 'output', 'file=/tmp/tmplppovb8y/prophet_model9nwzf5wf/prophet_model-20241026011519.csv', 'method=optimize', 'algorithm=lbfgs', 'iter=10000']\n",
      "01:15:19 - cmdstanpy - INFO - Chain [1] start processing\n",
      "DEBUG:cmdstanpy:CmdStan args: ['/home/cdsw/.local/lib/python3.10/site-packages/prophet/stan_model/prophet_model.bin', 'random', 'seed=12025', 'data', 'file=/tmp/tmplppovb8y/bifkhdtz.json', 'init=/tmp/tmplppovb8y/_2jrzgjv.json', 'output', 'file=/tmp/tmplppovb8y/prophet_model1j4z0qyk/prophet_model-20241026011519.csv', 'method=optimize', 'algorithm=lbfgs', 'iter=10000']\n",
      "01:15:19 - cmdstanpy - INFO - Chain [1] start processing\n",
      "INFO:cmdstanpy:Chain [1] start processing\n",
      "DEBUG:cmdstanpy:running CmdStan, num_threads: None\n",
      "DEBUG:cmdstanpy:running CmdStan, num_threads: None\n",
      "DEBUG:cmdstanpy:idx 0\n",
      "DEBUG:cmdstanpy:running CmdStan, num_threads: None\n",
      "DEBUG:cmdstanpy:running CmdStan, num_threads: None\n",
      "DEBUG:cmdstanpy:CmdStan args: ['/home/cdsw/.local/lib/python3.10/site-packages/prophet/stan_model/prophet_model.bin', 'random', 'seed=91615', 'data', 'file=/tmp/tmplppovb8y/wxuty40l.json', 'init=/tmp/tmplppovb8y/grualsi8.json', 'output', 'file=/tmp/tmplppovb8y/prophet_modelk7yzmvz3/prophet_model-20241026011519.csv', 'method=optimize', 'algorithm=lbfgs', 'iter=10000']\n",
      "01:15:19 - cmdstanpy - INFO - Chain [1] start processing\n",
      "DEBUG:cmdstanpy:CmdStan args: ['/home/cdsw/.local/lib/python3.10/site-packages/prophet/stan_model/prophet_model.bin', 'random', 'seed=11627', 'data', 'file=/tmp/tmplppovb8y/8_rtisdf.json', 'init=/tmp/tmplppovb8y/qr6mz_6i.json', 'output', 'file=/tmp/tmplppovb8y/prophet_modelta09m40s/prophet_model-20241026011519.csv', 'method=optimize', 'algorithm=lbfgs', 'iter=10000']\n",
      "01:15:19 - cmdstanpy - INFO - Chain [1] start processing\n",
      "INFO:cmdstanpy:Chain [1] start processing\n",
      "INFO:cmdstanpy:Chain [1] start processing\n",
      "DEBUG:cmdstanpy:CmdStan args: ['/home/cdsw/.local/lib/python3.10/site-packages/prophet/stan_model/prophet_model.bin', 'random', 'seed=91734', 'data', 'file=/tmp/tmplppovb8y/jdic_u3v.json', 'init=/tmp/tmplppovb8y/gbd78_h4.json', 'output', 'file=/tmp/tmplppovb8y/prophet_modelu5qhipbq/prophet_model-20241026011519.csv', 'method=optimize', 'algorithm=lbfgs', 'iter=10000']\n",
      "01:15:19 - cmdstanpy - INFO - Chain [1] start processing\n",
      "DEBUG:cmdstanpy:CmdStan args: ['/home/cdsw/.local/lib/python3.10/site-packages/prophet/stan_model/prophet_model.bin', 'random', 'seed=25079', 'data', 'file=/tmp/tmplppovb8y/woojdi2z.json', 'init=/tmp/tmplppovb8y/f2o2mnvj.json', 'output', 'file=/tmp/tmplppovb8y/prophet_modelmqmpp3ws/prophet_model-20241026011519.csv', 'method=optimize', 'algorithm=lbfgs', 'iter=10000']\n",
      "01:15:19 - cmdstanpy - INFO - Chain [1] start processing\n",
      "DEBUG:cmdstanpy:running CmdStan, num_threads: None\n",
      "DEBUG:cmdstanpy:CmdStan args: ['/home/cdsw/.local/lib/python3.10/site-packages/prophet/stan_model/prophet_model.bin', 'random', 'seed=76095', 'data', 'file=/tmp/tmplppovb8y/wczb8agl.json', 'init=/tmp/tmplppovb8y/tloxq9s0.json', 'output', 'file=/tmp/tmplppovb8y/prophet_modelwzsq3bj9/prophet_model-20241026011519.csv', 'method=optimize', 'algorithm=lbfgs', 'iter=10000']\n",
      "01:15:19 - cmdstanpy - INFO - Chain [1] start processing\n",
      "DEBUG:cmdstanpy:CmdStan args: ['/home/cdsw/.local/lib/python3.10/site-packages/prophet/stan_model/prophet_model.bin', 'random', 'seed=778', 'data', 'file=/tmp/tmplppovb8y/c85gl8gu.json', 'init=/tmp/tmplppovb8y/pggdodzw.json', 'output', 'file=/tmp/tmplppovb8y/prophet_modelpoevjmbh/prophet_model-20241026011519.csv', 'method=optimize', 'algorithm=lbfgs', 'iter=10000']\n",
      "INFO:cmdstanpy:Chain [1] start processing\n",
      "01:15:19 - cmdstanpy - INFO - Chain [1] start processing\n",
      "INFO:cmdstanpy:Chain [1] start processing\n",
      "INFO:cmdstanpy:Chain [1] start processing\n",
      "INFO:cmdstanpy:Chain [1] start processing\n",
      "DEBUG:cmdstanpy:CmdStan args: ['/home/cdsw/.local/lib/python3.10/site-packages/prophet/stan_model/prophet_model.bin', 'random', 'seed=58497', 'data', 'file=/tmp/tmplppovb8y/3cbgcqrd.json', 'init=/tmp/tmplppovb8y/su9ghfsn.json', 'output', 'file=/tmp/tmplppovb8y/prophet_modelx61z9vrt/prophet_model-20241026011519.csv', 'method=optimize', 'algorithm=lbfgs', 'iter=10000']\n",
      "01:15:19 - cmdstanpy - INFO - Chain [1] done processing\n",
      "01:15:19 - cmdstanpy - INFO - Chain [1] start processing\n",
      "INFO:cmdstanpy:Chain [1] start processing\n",
      "01:15:19 - cmdstanpy - INFO - Chain [1] done processing\n",
      "INFO:cmdstanpy:Chain [1] start processing\n",
      "INFO:cmdstanpy:Chain [1] done processing\n",
      "INFO:cmdstanpy:Chain [1] start processing\n",
      "INFO:cmdstanpy:Chain [1] done processing\n",
      "01:15:20 - cmdstanpy - INFO - Chain [1] done processing\n",
      "INFO:cmdstanpy:Chain [1] done processing\n",
      "01:15:20 - cmdstanpy - INFO - Chain [1] done processing\n",
      "INFO:cmdstanpy:Chain [1] done processing\n",
      "01:15:20 - cmdstanpy - INFO - Chain [1] done processing\n",
      "INFO:cmdstanpy:Chain [1] done processing\n",
      "01:15:20 - cmdstanpy - INFO - Chain [1] done processing\n",
      "INFO:cmdstanpy:Chain [1] done processing\n",
      "01:15:20 - cmdstanpy - INFO - Chain [1] done processing\n",
      "INFO:cmdstanpy:Chain [1] done processing\n",
      "01:15:20 - cmdstanpy - INFO - Chain [1] done processing\n",
      "01:15:20 - cmdstanpy - INFO - Chain [1] done processing\n",
      "INFO:cmdstanpy:Chain [1] done processing\n",
      "INFO:cmdstanpy:Chain [1] done processing\n",
      "01:15:20 - cmdstanpy - INFO - Chain [1] done processing\n",
      "INFO:cmdstanpy:Chain [1] done processing\n"
     ]
    }
   ],
   "source": [
    "mlflow.set_experiment(\"prophet-forecast\")\n",
    "with mlflow.start_run():\n",
    "    model = Prophet().fit(df)\n",
    "    params = extract_params(model)\n",
    "\n",
    "    metrics_raw = cross_validation(\n",
    "        model=model,\n",
    "        horizon=\"30 days\",\n",
    "        period=\"30 days\",\n",
    "        initial=\"60 days\",\n",
    "        parallel=\"threads\",\n",
    "        disable_tqdm=True,\n",
    "    )\n",
    "\n",
    "    cv_metrics = performance_metrics(metrics_raw)\n",
    "    metrics = cv_metrics.drop(columns=[\"horizon\"]).mean().to_dict()\n",
    "\n",
    "    # The training data can be retrieved from the fit model for convenience\n",
    "    train = model.history\n",
    "\n",
    "    model_info = mlflow.prophet.log_model(\n",
    "        model, artifact_path=\"prophet_model\", input_example=train[[\"ds\"]].head(10)\n",
    "    )\n",
    "    mlflow.log_params(params)\n",
    "    mlflow.log_metrics(metrics)"
   ]
  },
  {
   "cell_type": "code",
   "execution_count": 25,
   "id": "bc16bbf1-98fc-4214-a6de-551d6a935ace",
   "metadata": {},
   "outputs": [],
   "source": [
    "loaded_model = mlflow.prophet.load_model(model_info.model_uri)"
   ]
  },
  {
   "cell_type": "code",
   "execution_count": 26,
   "id": "cc98119a-746f-49c3-8960-a1856b955414",
   "metadata": {},
   "outputs": [
    {
     "name": "stdout",
     "output_type": "stream",
     "text": [
      "forecast:\n",
      "$            ds      yhat\n",
      "203 2023-11-20  5.047902\n",
      "204 2023-11-21  6.014548\n",
      "205 2023-11-22  6.027425\n",
      "206 2023-11-24  5.633633\n",
      "207 2023-11-25  5.653667\n",
      "208 2023-11-26  5.584663\n",
      "209 2023-11-27  5.033298\n",
      "210 2023-11-28  5.999944\n",
      "211 2023-11-29  6.012820\n",
      "212 2023-12-01  5.619029\n",
      "213 2023-12-04  5.018694\n",
      "214 2023-12-06  5.998216\n",
      "215 2023-12-07  5.268505\n",
      "216 2023-12-08  5.604425\n",
      "217 2023-12-09  5.624458\n",
      "218 2023-12-10  5.555455\n",
      "219 2023-12-12  5.970735\n",
      "220 2023-12-13  5.983612\n",
      "221 2023-12-14  5.253900\n",
      "222 2023-12-17  5.540851\n",
      "223 2023-12-19  5.956131\n",
      "224 2023-12-20  5.969008\n",
      "225 2023-12-22  5.575216\n",
      "226 2023-12-23  5.595250\n",
      "227 2023-12-24  5.526246\n",
      "228 2023-12-25  4.974881\n",
      "229 2023-12-26  5.941527\n",
      "230 2023-12-28  5.224692\n",
      "231 2023-12-29  5.560612\n",
      "232 2023-12-31  5.511642\n"
     ]
    }
   ],
   "source": [
    "forecast = loaded_model.predict(loaded_model.make_future_dataframe(60))\n",
    "forecast = forecast[[\"ds\", \"yhat\"]].tail(90)\n",
    "print(f\"forecast:\\n${forecast.head(30)}\")"
   ]
  },
  {
   "cell_type": "code",
   "execution_count": null,
   "id": "56b364f5-be3f-4690-935c-ee46ef3ff857",
   "metadata": {},
   "outputs": [],
   "source": []
  }
 ],
 "metadata": {
  "kernelspec": {
   "display_name": "Python 3 (ipykernel)",
   "language": "python",
   "name": "python3"
  },
  "language_info": {
   "codemirror_mode": {
    "name": "ipython",
    "version": 3
   },
   "file_extension": ".py",
   "mimetype": "text/x-python",
   "name": "python",
   "nbconvert_exporter": "python",
   "pygments_lexer": "ipython3",
   "version": "3.10.13"
  }
 },
 "nbformat": 4,
 "nbformat_minor": 5
}
